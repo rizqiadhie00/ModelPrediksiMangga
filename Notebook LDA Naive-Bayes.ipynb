{
 "cells": [
  {
   "cell_type": "code",
   "execution_count": 16,
   "metadata": {},
   "outputs": [],
   "source": [
    "\n",
    "import pandas as pd\n",
    "import numpy as np  \n",
    "import matplotlib.pyplot as plt\n",
    "from sklearn.discriminant_analysis import LinearDiscriminantAnalysis as LDA  \n",
    "from sklearn.preprocessing import StandardScaler   \n",
    "from sklearn import svm\n",
    "from sklearn.model_selection import StratifiedKFold\n",
    "from scipy.signal import savgol_filter  \n",
    "from sklearn.metrics import accuracy_score\n",
    "from sklearn.naive_bayes import GaussianNB\n",
    "import itertools\n",
    "from sklearn.metrics import confusion_matrix\n",
    "\n",
    "\n",
    "dir = 'C:\\\\tes\\\\Kuliah\\\\ReferensiSkripsi\\\\Source Code\\\\LDA\\\\Source Code Utama\\\\Data_serapan_baru.csv'\n",
    "data_serapan = pd.read_csv(dir)    \n",
    "grup_data = data_serapan.values[:,2].astype('uint8')  \n",
    "nilai_serapan = data_serapan.values[:,3:]\n",
    "kelas=['Cengkir', 'Kweni', 'Kent','Palmer']\n",
    "\n",
    "#Filtering Menggunakan Savitzky-Golay\n",
    "derivasi_ns = savgol_filter(nilai_serapan, 5, 2)\n",
    "derivasi_ns_scaled = StandardScaler().fit_transform(nilai_serapan) \n"
   ]
  },
  {
   "cell_type": "code",
   "execution_count": 17,
   "metadata": {},
   "outputs": [],
   "source": [
    "#Inisiasi Model\n",
    "kf = StratifiedKFold(n_splits=5)\n",
    "models = GaussianNB()\n",
    "\n",
    "acc_score = []\n",
    "acc_std_score = []\n",
    "predicted_targets = []\n",
    "actual_targets = []\n"
   ]
  },
  {
   "cell_type": "code",
   "execution_count": 18,
   "metadata": {},
   "outputs": [
    {
     "name": "stdout",
     "output_type": "stream",
     "text": [
      "Rerata Akurasi : 0.9839260312944523\n",
      "Rerata Standar Deviasi : 0.013126909809455828\n"
     ]
    }
   ],
   "source": [
    "#Iterasi untuk validasi silang\n",
    "\n",
    "for train_index , test_index in kf.split(derivasi_ns_scaled, grup_data):\n",
    "    X_train , X_test = derivasi_ns_scaled[train_index,:],derivasi_ns_scaled[test_index,:]\n",
    "    y_train , y_test = grup_data[train_index] , grup_data[test_index]\n",
    "\n",
    "     #Reduksi dimensi menggunakan LDA\n",
    "    lda = LDA(n_components=2)\n",
    "    lda_fitted = lda.fit_transform(X_train, y_train)\n",
    "    lda_test = lda.transform(X_test)\n",
    "    lda_fitted_scaled = StandardScaler().fit_transform(lda_fitted)\n",
    "    lda_test_scaled = StandardScaler().fit_transform(lda_test)\n",
    "\n",
    "    models.fit(lda_fitted_scaled,y_train)\n",
    "    pred_values = models.predict(lda_test_scaled)\n",
    "    \n",
    "    predicted_targets = np.append(predicted_targets, pred_values)\n",
    "    actual_targets = np.append(actual_targets, y_test)\n",
    "     \n",
    "    acc = accuracy_score(pred_values , y_test)\n",
    "    acc_score.append(acc)\n",
    "    \n",
    "#Rerata     \n",
    "avg_acc_score = sum(acc_score)/5\n",
    "#Standar Deviasi\n",
    "avg_std_score = np.std(acc_score)\n",
    "\n",
    " \n",
    "\n",
    "print('Rerata Akurasi : {}'.format(avg_acc_score))\n",
    "print('Rerata Standar Deviasi : {}'.format(avg_std_score))"
   ]
  },
  {
   "cell_type": "code",
   "execution_count": 19,
   "metadata": {},
   "outputs": [],
   "source": [
    "def generasi_confusion_matrix(matriks, classes, normalize=False, title='Confusion matrix'):\n",
    "    if normalize:\n",
    "        matriks = matriks.astype('float') / matriks.sum(axis=1)[:, np.newaxis]\n",
    "\n",
    "    plt.imshow(matriks, interpolation='nearest', cmap=plt.get_cmap('Blues'))\n",
    "    plt.title(title)\n",
    "    plt.colorbar()\n",
    "\n",
    "    tick_marks = np.arange(len(classes))\n",
    "    plt.xticks(tick_marks, classes, rotation=0)\n",
    "    plt.yticks(tick_marks, classes)\n",
    "\n",
    "    fmt = '.2f' if normalize else 'd'\n",
    "    thresh = matriks.max() / 2.\n",
    "\n",
    "    for i, j in itertools.product(range(matriks.shape[0]), range(matriks.shape[1])):\n",
    "        plt.text(j, i, format(matriks[i, j], fmt), horizontalalignment=\"center\",\n",
    "                 color=\"white\" if matriks[i, j] > thresh else \"black\")\n",
    "\n",
    "    plt.tight_layout()\n",
    "    plt.ylabel('True label')\n",
    "    plt.xlabel('Predicted label')\n",
    "\n",
    "    return matriks\n",
    "\n",
    "#Berfungsi untuk menampilkan data confusion matrix\n",
    "\n",
    "def plot_matriks(predicted_labels_list, y_test_list):\n",
    "    matriks = confusion_matrix(y_test_list, predicted_labels_list)\n",
    "    np.set_printoptions(precision=2)\n",
    "\n",
    "    plt.figure()\n",
    "    generasi_confusion_matrix(matriks, classes=kelas, normalize=True, title='Confusion matrix of Non LDA Reduction KNN')\n",
    "    plt.show()"
   ]
  },
  {
   "cell_type": "code",
   "execution_count": 20,
   "metadata": {},
   "outputs": [
    {
     "data": {
      "image/png": "[encoded data removed]",
      "text/plain": [
       "<Figure size 432x288 with 2 Axes>"
      ]
     },
     "metadata": {
      "needs_background": "light"
     },
     "output_type": "display_data"
    }
   ],
   "source": [
    "plot_matriks(predicted_targets, actual_targets)"
   ]
  }
 ],
 "metadata": {
  "kernelspec": {
   "display_name": "Python 3.9.7 64-bit",
   "language": "python",
   "name": "python3"
  },
  "language_info": {
   "codemirror_mode": {
    "name": "ipython",
    "version": 3
   },
   "file_extension": ".py",
   "mimetype": "text/x-python",
   "name": "python",
   "nbconvert_exporter": "python",
   "pygments_lexer": "ipython3",
   "version": "3.9.7"
  },
  "orig_nbformat": 4,
  "vscode": {
   "interpreter": {
    "hash": "b001dc8ae0ba26e41fd0b16b9dd79ee76396a47ab5c30d72907f87c0cd43d2f4"
   }
  }
 },
 "nbformat": 4,
 "nbformat_minor": 2
}
